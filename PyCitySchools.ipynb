{
 "cells": [
  {
   "cell_type": "code",
   "execution_count": null,
   "id": "e07143d5",
   "metadata": {},
   "outputs": [],
   "source": [
    "# Import dependencies\n",
    "import pandas as pd\n",
    "import os"
   ]
  },
  {
   "cell_type": "code",
   "execution_count": null,
   "id": "96453dba",
   "metadata": {},
   "outputs": [],
   "source": [
    "# Files to load\n",
    "school_data_file = os.path.join(\"Resources\",\"schools_complete.csv\")\n",
    "student_data_file = os.path.join(\"Resources\",\"students_complete.csv\")"
   ]
  },
  {
   "cell_type": "code",
   "execution_count": null,
   "id": "6d38b3fe",
   "metadata": {},
   "outputs": [],
   "source": [
    "# Read school data and store in a dataframe\n",
    "school_data_df = pd.read_csv(school_data_file)\n",
    "school_data_df"
   ]
  },
  {
   "cell_type": "code",
   "execution_count": null,
   "id": "79b4964b",
   "metadata": {},
   "outputs": [],
   "source": [
    "# Read student data and store in a dataframe\n",
    "student_data_df = pd.read_csv(student_data_file)\n",
    "student_data_df.head()"
   ]
  },
  {
   "cell_type": "code",
   "execution_count": null,
   "id": "67ea4ab3",
   "metadata": {},
   "outputs": [],
   "source": [
    "# Determine if there is any missing data in school_data_df\n",
    "school_data_df.count()"
   ]
  },
  {
   "cell_type": "code",
   "execution_count": null,
   "id": "431b5a81",
   "metadata": {},
   "outputs": [],
   "source": [
    "# Determine if there is any missing data in student_data_df\n",
    "student_data_df.count()"
   ]
  },
  {
   "cell_type": "code",
   "execution_count": null,
   "id": "76e47215",
   "metadata": {},
   "outputs": [],
   "source": [
    "# verify none of the rows in student_data_df are empty\n",
    "student_data_df.isnull().sum()"
   ]
  },
  {
   "cell_type": "code",
   "execution_count": null,
   "id": "0232739c",
   "metadata": {},
   "outputs": [],
   "source": [
    "# Verify data types for school_data_df\n",
    "school_data_df.dtypes"
   ]
  },
  {
   "cell_type": "code",
   "execution_count": null,
   "id": "8f904d83",
   "metadata": {},
   "outputs": [],
   "source": [
    "# Verify data types for student_data_df\n",
    "student_data_df.dtypes"
   ]
  },
  {
   "cell_type": "code",
   "execution_count": null,
   "id": "1d026ffe",
   "metadata": {},
   "outputs": [],
   "source": [
    "prefixes_suffixes = [\"Dr. \", \"Mr. \",\"Ms. \", \"Mrs. \", \"Miss \", \" MD\", \" DDS\", \" DVM\", \" PhD\"]"
   ]
  },
  {
   "cell_type": "code",
   "execution_count": null,
   "id": "b0764e54",
   "metadata": {},
   "outputs": [],
   "source": [
    "# Iterate through prefixes_suffixes and replace them in the student_data_df\n",
    "for word in prefixes_suffixes:\n",
    "    student_data_df[\"student_name\"] = student_data_df[\"student_name\"].str.replace(word,\"\")\n",
    "student_data_df.head()"
   ]
  },
  {
   "cell_type": "code",
   "execution_count": null,
   "id": "1c2f51dd",
   "metadata": {},
   "outputs": [],
   "source": [
    "school_data_complete_df = pd.merge(student_data_df,school_data_df, on=[\"school_name\", \"school_name\"])\n",
    "school_data_complete_df.head()"
   ]
  },
  {
   "cell_type": "code",
   "execution_count": null,
   "id": "1ad54d38",
   "metadata": {},
   "outputs": [],
   "source": [
    "# Get count of students in the district\n",
    "student_count = school_data_complete_df[\"Student ID\"].count()\n",
    "student_count"
   ]
  },
  {
   "cell_type": "code",
   "execution_count": null,
   "id": "ed9ccffc",
   "metadata": {},
   "outputs": [],
   "source": [
    "# Get count of schools in district\n",
    "school_count = school_data_df[\"school_name\"].count()\n",
    "school_count"
   ]
  },
  {
   "cell_type": "code",
   "execution_count": null,
   "id": "34c56ab8",
   "metadata": {},
   "outputs": [],
   "source": [
    "# Calculate total budget for schools in the district\n",
    "total_budget = school_data_df[\"budget\"].sum()\n",
    "total_budget"
   ]
  },
  {
   "cell_type": "code",
   "execution_count": null,
   "id": "a1152e92",
   "metadata": {},
   "outputs": [],
   "source": [
    "# Calculate average reading score\n",
    "ave_reading_score = school_data_complete_df[\"reading_score\"].mean()\n",
    "ave_reading_score"
   ]
  },
  {
   "cell_type": "code",
   "execution_count": null,
   "id": "b948f0fd",
   "metadata": {},
   "outputs": [],
   "source": [
    "# Calculate average math score\n",
    "ave_math_score = school_data_complete_df[\"math_score\"].mean()\n",
    "ave_math_score"
   ]
  },
  {
   "cell_type": "code",
   "execution_count": null,
   "id": "3eb539bb",
   "metadata": {},
   "outputs": [],
   "source": [
    "# Collect students who passed math, and students who passed reading into dataframes\n",
    "passing_math_df = school_data_complete_df[school_data_complete_df[\"math_score\"] >= 70]\n",
    "passing_reading_df = school_data_complete_df[school_data_complete_df[\"reading_score\"] >= 70]\n"
   ]
  },
  {
   "cell_type": "code",
   "execution_count": null,
   "id": "09d78fc6",
   "metadata": {},
   "outputs": [],
   "source": [
    "# Calculate number of students passing math, and number of students passing reading\n",
    "passing_math_count = passing_math_df[\"student_name\"].count()\n",
    "passing_reading_count = passing_reading_df[\"student_name\"].count()\n"
   ]
  },
  {
   "cell_type": "code",
   "execution_count": null,
   "id": "81cc72a3",
   "metadata": {},
   "outputs": [],
   "source": [
    "print(passing_math_count)\n",
    "print(passing_reading_count)"
   ]
  },
  {
   "cell_type": "code",
   "execution_count": null,
   "id": "58f77db9",
   "metadata": {},
   "outputs": [],
   "source": [
    "# Get percentage pass rate for reading and math\n",
    "passing_math_percent = passing_math_count / float(student_count) * 100\n",
    "passing_reading_percent = passing_reading_count / float(student_count) * 100"
   ]
  },
  {
   "cell_type": "code",
   "execution_count": null,
   "id": "9e92f0a2",
   "metadata": {},
   "outputs": [],
   "source": [
    "print(passing_math_percent)\n",
    "print(passing_reading_percent)"
   ]
  },
  {
   "cell_type": "code",
   "execution_count": null,
   "id": "199f3316",
   "metadata": {},
   "outputs": [],
   "source": [
    "# Calculate percent of student who passed math and reading\n",
    "passing_math_reading_df = school_data_complete_df[(school_data_complete_df[\"math_score\"] >= 70) & (school_data_complete_df[\"reading_score\"] >= 70)]\n",
    "# passing_math_reading_count = passing_math_reading_df[\"student_name\"].count()\n",
    "overall_passing_count = passing_math_reading_df.student_name.count()\n",
    "overall_passing_percent = overall_passing_count / float(student_count) * 100\n",
    "\n"
   ]
  },
  {
   "cell_type": "code",
   "execution_count": null,
   "id": "3c7a8cd9",
   "metadata": {},
   "outputs": [],
   "source": [
    "print(overall_passing_percent)"
   ]
  },
  {
   "cell_type": "code",
   "execution_count": null,
   "id": "141a625f",
   "metadata": {},
   "outputs": [],
   "source": [
    "# Create a dataframe to hold the district summary\n",
    "district_summary_df = pd.DataFrame(\n",
    "[\n",
    "    {\n",
    "        \"Total Schools\": school_count,\n",
    "        \"Total Students\": student_count,\n",
    "        \"Total Budget\": total_budget,\n",
    "        \"Average Math Score\": ave_math_score,\n",
    "        \"Average Reading Score\": ave_reading_score,\n",
    "        \"% Passing Math\": passing_math_percent,\n",
    "        \"% Passing Reading\": passing_reading_percent,\n",
    "        \"% Overall Passing\": overall_passing_percent\n",
    "    }\n",
    "])\n",
    "district_summary_df"
   ]
  },
  {
   "cell_type": "code",
   "execution_count": null,
   "id": "d05012e1",
   "metadata": {},
   "outputs": [],
   "source": [
    "# Format the Total Students column\n",
    "district_summary_df[\"Total Students\"] = district_summary_df[\"Total Students\"].map(\"{:,}\".format)\n",
    "district_summary_df[\"Total Students\"]"
   ]
  },
  {
   "cell_type": "code",
   "execution_count": null,
   "id": "be6b4af3",
   "metadata": {},
   "outputs": [],
   "source": [
    "# Format the Total Budget column\n",
    "district_summary_df[\"Total Budget\"] = district_summary_df[\"Total Budget\"].map(\"${:,.2f}\".format)\n",
    "district_summary_df[\"Total Budget\"]"
   ]
  },
  {
   "cell_type": "code",
   "execution_count": null,
   "id": "b0def11c",
   "metadata": {},
   "outputs": [],
   "source": [
    "# Format the rest of the columns\n",
    "district_summary_df[\"Average Math Score\"] = district_summary_df[\"Average Math Score\"].map(\"{:.1f}\".format)\n",
    "\n",
    "district_summary_df[\"Average Reading Score\"] = district_summary_df[\"Average Reading Score\"].map(\"{:.1f}\".format)\n",
    "\n",
    "district_summary_df[\"% Passing Math\"] = district_summary_df[\"% Passing Math\"].map(\"{:.0f}\".format)\n",
    "\n",
    "district_summary_df[\"% Passing Reading\"] = district_summary_df[\"% Passing Reading\"].map(\"{:.0f}\".format)\n",
    "\n",
    "district_summary_df[\"% Overall Passing\"] = district_summary_df[\"% Overall Passing\"].map(\"{:.0f}\".format)"
   ]
  },
  {
   "cell_type": "code",
   "execution_count": null,
   "id": "e7b3c33b",
   "metadata": {},
   "outputs": [],
   "source": [
    "district_summary_df"
   ]
  },
  {
   "cell_type": "code",
   "execution_count": null,
   "id": "c380c64b",
   "metadata": {},
   "outputs": [],
   "source": [
    "# Determine the school type\n",
    "per_school_types = school_data_df.set_index([\"school_name\"])[\"type\"]\n",
    "per_school_types"
   ]
  },
  {
   "cell_type": "code",
   "execution_count": null,
   "id": "3bb6c233",
   "metadata": {},
   "outputs": [],
   "source": [
    "df = pd.DataFrame(per_school_types)\n",
    "df"
   ]
  },
  {
   "cell_type": "code",
   "execution_count": null,
   "id": "4894b9e5",
   "metadata": {},
   "outputs": [],
   "source": [
    "# Calculate the total student count per school (creating a series)\n",
    "per_school_counts = school_data_df.set_index([\"school_name\"])[\"size\"]\n",
    "per_school_counts"
   ]
  },
  {
   "cell_type": "code",
   "execution_count": null,
   "id": "b30d0626",
   "metadata": {},
   "outputs": [],
   "source": [
    "# Calculate per school budget\n",
    "per_school_budget = school_data_df.set_index([\"school_name\"])[\"budget\"]\n",
    "per_school_budget"
   ]
  },
  {
   "cell_type": "code",
   "execution_count": null,
   "id": "e9594287",
   "metadata": {},
   "outputs": [],
   "source": [
    "# Calculate the per capita budget\n",
    "per_school_capita = per_school_budget / per_school_counts\n",
    "per_school_capita"
   ]
  },
  {
   "cell_type": "code",
   "execution_count": null,
   "id": "bafa699a",
   "metadata": {},
   "outputs": [],
   "source": [
    "# Calculate the math scores.\n",
    "student_school_math = student_data_df.set_index([\"school_name\"])[\"math_score\"]"
   ]
  },
  {
   "cell_type": "code",
   "execution_count": null,
   "id": "5bb0a74e",
   "metadata": {},
   "outputs": [],
   "source": [
    "# Calculate the averages per school\n",
    "per_school_averages = school_data_complete_df.groupby([\"school_name\"]).mean()\n",
    "per_school_averages"
   ]
  },
  {
   "cell_type": "code",
   "execution_count": null,
   "id": "ed5fbb2a",
   "metadata": {},
   "outputs": [],
   "source": [
    "# Calculate the average test scores\n",
    "per_school_math = school_data_complete_df.groupby([\"school_name\"]).mean()[\"math_score\"]\n",
    "per_school_reading = school_data_complete_df.groupby([\"school_name\"]).mean()[\"reading_score\"]"
   ]
  },
  {
   "cell_type": "code",
   "execution_count": null,
   "id": "ab423aa0",
   "metadata": {},
   "outputs": [],
   "source": [
    "per_school_passing_math = passing_math_df.groupby([\"school_name\"]).count()[\"student_name\"]\n",
    "per_school_passing_reading = passing_reading_df.groupby([\"school_name\"]).count()[\"student_name\"]"
   ]
  },
  {
   "cell_type": "code",
   "execution_count": null,
   "id": "6e45622b",
   "metadata": {},
   "outputs": [],
   "source": [
    "per_school_passing_math"
   ]
  },
  {
   "cell_type": "code",
   "execution_count": null,
   "id": "6b5b2d07",
   "metadata": {},
   "outputs": [],
   "source": [
    "# Calculate the percentage of passing math and reading scores per school\n",
    "per_school_passing_math_percent = per_school_passing_math / per_school_counts * 100\n",
    "per_school_passing_reading_percent = per_school_passing_reading / per_school_counts * 100"
   ]
  },
  {
   "cell_type": "code",
   "execution_count": null,
   "id": "fc85648c",
   "metadata": {},
   "outputs": [],
   "source": [
    "# Calculate no. of students who passed both math and reading\n",
    "per_school_passing_math_reading = passing_math_reading_df.groupby([\"school_name\"]).count()[\"student_name\"]\n",
    "per_school_passing_math_reading"
   ]
  },
  {
   "cell_type": "code",
   "execution_count": null,
   "id": "8aa3681c",
   "metadata": {},
   "outputs": [],
   "source": [
    "per_school_overall_passing_percent = per_school_passing_math_reading / per_school_counts * 100\n",
    "per_school_overall_passing_percent"
   ]
  },
  {
   "cell_type": "code",
   "execution_count": null,
   "id": "fcc9b165",
   "metadata": {},
   "outputs": [],
   "source": [
    "per_school_summary_df = pd.DataFrame({\n",
    "             \"School Type\": per_school_types,\n",
    "             \"Total Students\": per_school_counts,\n",
    "             \"Total School Budget\": per_school_budget,\n",
    "             \"Per Student Budget\": per_school_capita,\n",
    "             \"Average Math Score\": per_school_math,\n",
    "           \"Average Reading Score\": per_school_reading,\n",
    "           \"% Passing Math\": per_school_passing_math_percent,\n",
    "           \"% Passing Reading\": per_school_passing_reading_percent,\n",
    "           \"% Overall Passing\": per_school_overall_passing_percent})\n",
    "per_school_summary_df.head()"
   ]
  },
  {
   "cell_type": "code",
   "execution_count": null,
   "id": "a2fcd072",
   "metadata": {},
   "outputs": [],
   "source": [
    "# Format per_school_summary\n",
    "per_school_summary_df[\"Total School Budget\"] = per_school_summary_df[\"Total School Budget\"].map(\"${:,.2f}\".format)\n",
    "per_school_summary_df[\"Per Student Budget\"] = per_school_summary_df[\"Per Student Budget\"].map(\"${:,.2f}\".format)\n",
    "\n",
    "\n"
   ]
  },
  {
   "cell_type": "code",
   "execution_count": null,
   "id": "dfb89403",
   "metadata": {},
   "outputs": [],
   "source": [
    "per_school_summary_df.dtypes"
   ]
  },
  {
   "cell_type": "code",
   "execution_count": null,
   "id": "e63e027b",
   "metadata": {},
   "outputs": [],
   "source": [
    "per_school_summary_df[\"% Passing Math\"] = per_school_summary_df[\"% Passing Math\"].map(\"{:.0f}\".format)"
   ]
  },
  {
   "cell_type": "code",
   "execution_count": null,
   "id": "847985e5",
   "metadata": {},
   "outputs": [],
   "source": [
    "per_school_summary_df[\"% Passing Reading\"] = per_school_summary_df[\"% Passing Reading\"].map(\"{:.0f}\".format)\n",
    "per_school_summary_df[\"% Overall Passing\"] = per_school_summary_df[\"% Overall Passing\"].map(\"{:.0f}\".format)\n",
    "per_school_summary_df.head()"
   ]
  },
  {
   "cell_type": "code",
   "execution_count": null,
   "id": "30c9b1ec",
   "metadata": {},
   "outputs": [],
   "source": [
    "per_school_summary_df[\"Average Math Score\"] = per_school_summary_df[\"Average Math Score\"].map(\"{:.1f}\".format)\n",
    "per_school_summary_df[\"Average Reading Score\"] = per_school_summary_df[\"Average Reading Score\"].map(\"{:.1f}\".format)\n",
    "per_school_summary_df.head()"
   ]
  },
  {
   "cell_type": "code",
   "execution_count": null,
   "id": "5a1b4a03",
   "metadata": {},
   "outputs": [],
   "source": []
  }
 ],
 "metadata": {
  "kernelspec": {
   "display_name": "PythonData",
   "language": "python",
   "name": "pythondata"
  },
  "language_info": {
   "codemirror_mode": {
    "name": "ipython",
    "version": 3
   },
   "file_extension": ".py",
   "mimetype": "text/x-python",
   "name": "python",
   "nbconvert_exporter": "python",
   "pygments_lexer": "ipython3",
   "version": "3.7.10"
  }
 },
 "nbformat": 4,
 "nbformat_minor": 5
}
